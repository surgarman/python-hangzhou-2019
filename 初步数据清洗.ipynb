{
 "cells": [
  {
   "cell_type": "code",
   "execution_count": 1,
   "metadata": {},
   "outputs": [],
   "source": [
    "import numpy as np\n",
    "import pandas as pd\n",
    "\n",
    "import warnings\n",
    "warnings.filterwarnings('ignore')"
   ]
  },
  {
   "cell_type": "code",
   "execution_count": 10,
   "metadata": {},
   "outputs": [
    {
     "name": "stdout",
     "output_type": "stream",
     "text": [
      "<class 'pandas.core.frame.DataFrame'>\n",
      "RangeIndex: 30771 entries, 0 to 30770\n",
      "Data columns (total 14 columns):\n",
      "产权       30771 non-null object\n",
      "关注       30771 non-null int64\n",
      "区域       30770 non-null object\n",
      "单价       30771 non-null object\n",
      "小区       30770 non-null object\n",
      "年限       30771 non-null object\n",
      "总价/万元    30771 non-null float64\n",
      "户型       30771 non-null object\n",
      "房屋编码     30771 non-null int64\n",
      "挂牌时间     30771 non-null object\n",
      "朝向       30771 non-null object\n",
      "楼层       30771 non-null object\n",
      "装修情况     30771 non-null object\n",
      "面积       30771 non-null object\n",
      "dtypes: float64(1), int64(2), object(11)\n",
      "memory usage: 3.3+ MB\n"
     ]
    }
   ],
   "source": [
    "#读取数据 观察数据\n",
    "\n",
    "data = pd.read_csv(\"house.csv\")\n",
    "data.info()"
   ]
  },
  {
   "cell_type": "code",
   "execution_count": 11,
   "metadata": {},
   "outputs": [
    {
     "data": {
      "text/plain": [
       "0"
      ]
     },
     "execution_count": 11,
     "metadata": {},
     "output_type": "execute_result"
    }
   ],
   "source": [
    "#检查数据是否有缺失值\n",
    "data.isnull().values.sum()\n",
    "\n",
    "#缺失值在【区域】和【小区】\n",
    "#由于数据量比较小，采取删除的缺失值的处理方式\n",
    "data = data.dropna()\n",
    "\n",
    "#检查确缺失值\n",
    "data.isnull().values.sum()"
   ]
  },
  {
   "cell_type": "code",
   "execution_count": 12,
   "metadata": {},
   "outputs": [
    {
     "data": {
      "text/plain": [
       "'\\n数据清洗思路\\n产权--提取70数字\\n关注--无需改动\\n区域--拆分字段  xx区 xx地段\\n单价--只留数字\\n小区--无需改动\\n年限--拆分成建造时间 和 房屋类型\\n总价--无需修改 \\n户型--房屋编号 暂时先不动\\n挂牌时间 --转化成pandas datetime格式\\n朝向--暂时先不动\\n装修情况--简化\\n面积--只留数字。\\n'"
      ]
     },
     "execution_count": 12,
     "metadata": {},
     "output_type": "execute_result"
    }
   ],
   "source": [
    "#数据清洗\n",
    "'''\n",
    "数据清洗思路\n",
    "产权--提取70数字\n",
    "关注--无需改动\n",
    "区域--拆分字段  xx区 xx地段\n",
    "单价--只留数字\n",
    "小区--无需改动\n",
    "年限--拆分成建造时间 和 房屋类型\n",
    "总价--无需修改 \n",
    "户型--房屋编号 暂时先不动\n",
    "挂牌时间 --转化成pandas datetime格式\n",
    "朝向--暂时先不动\n",
    "装修情况--简化\n",
    "面积--只留数字。\n",
    "'''"
   ]
  },
  {
   "cell_type": "code",
   "execution_count": 13,
   "metadata": {},
   "outputs": [],
   "source": [
    "#产权--提取70数字              这里使用字符串切片的方式截取\n",
    "data[\"产权\"] = data[\"产权\"].str[:-1]\n",
    "#区域--拆分字段  xx区 xx地段   先看看有多少区域\n",
    "data_quyu = data.groupby(\"区域\").count()\n",
    "#发现规律\n",
    "data[\"区\"] = data[\"区域\"].str[0:2]\n",
    "data[\"板块\"]=data[\"区域\"].str[2:]\n",
    "#单价--只留数字\n",
    "data[\"单价\"] = data[\"单价\"].str[:-4]\n",
    "data[\"单价\"]= data[\"单价\"].astype(\"int64\")\n",
    "#年限--拆分成建造时间 和 房屋类型\n",
    "data[\"建造时间\"]=data[\"年限\"].str[:4]\n",
    "data[\"房屋类型\"]=data[\"年限\"].str[-2:]\n",
    "#挂牌时间 --转化成pandas datetime格式\n",
    "data[\"挂牌时间\"] = pd.to_datetime(data[\"挂牌时间\"])\n",
    "#装修情况\n",
    "data[\"装修情况\"] = data[\"装修情况\"].str[-2:]\n",
    "#面积--只留数字。\n",
    "data[\"面积\"]= data[\"面积\"].str[:-2]\n",
    "data[\"面积\"]= data[\"面积\"].astype(\"float64\")"
   ]
  },
  {
   "cell_type": "code",
   "execution_count": 14,
   "metadata": {},
   "outputs": [
    {
     "name": "stdout",
     "output_type": "stream",
     "text": [
      "<class 'pandas.core.frame.DataFrame'>\n",
      "Int64Index: 30770 entries, 0 to 30770\n",
      "Data columns (total 18 columns):\n",
      "产权       30770 non-null object\n",
      "关注       30770 non-null int64\n",
      "区域       30770 non-null object\n",
      "单价       30770 non-null int64\n",
      "小区       30770 non-null object\n",
      "年限       30770 non-null object\n",
      "总价/万元    30770 non-null float64\n",
      "户型       30770 non-null object\n",
      "房屋编码     30770 non-null int64\n",
      "挂牌时间     30770 non-null datetime64[ns]\n",
      "朝向       30770 non-null object\n",
      "楼层       30770 non-null object\n",
      "装修情况     30770 non-null object\n",
      "面积       30770 non-null float64\n",
      "区        30770 non-null object\n",
      "板块       30770 non-null object\n",
      "建造时间     30770 non-null object\n",
      "房屋类型     30770 non-null object\n",
      "dtypes: datetime64[ns](1), float64(2), int64(3), object(12)\n",
      "memory usage: 4.5+ MB\n"
     ]
    }
   ],
   "source": [
    "#------------------------------初步整理完毕\n",
    "data.info()"
   ]
  },
  {
   "cell_type": "code",
   "execution_count": 15,
   "metadata": {},
   "outputs": [],
   "source": [
    "df = data[['产权', '关注', '区', '板块', '单价', '小区','建造时间', '房屋类型' , '总价/万元', '户型', '房屋编码', '挂牌时间', '朝向',\n",
    "       '楼层', '装修情况', '面积', ]]"
   ]
  },
  {
   "cell_type": "code",
   "execution_count": 16,
   "metadata": {},
   "outputs": [
    {
     "data": {
      "text/html": [
       "<div>\n",
       "<style scoped>\n",
       "    .dataframe tbody tr th:only-of-type {\n",
       "        vertical-align: middle;\n",
       "    }\n",
       "\n",
       "    .dataframe tbody tr th {\n",
       "        vertical-align: top;\n",
       "    }\n",
       "\n",
       "    .dataframe thead th {\n",
       "        text-align: right;\n",
       "    }\n",
       "</style>\n",
       "<table border=\"1\" class=\"dataframe\">\n",
       "  <thead>\n",
       "    <tr style=\"text-align: right;\">\n",
       "      <th></th>\n",
       "      <th>产权</th>\n",
       "      <th>关注</th>\n",
       "      <th>区</th>\n",
       "      <th>板块</th>\n",
       "      <th>单价</th>\n",
       "      <th>小区</th>\n",
       "      <th>建造时间</th>\n",
       "      <th>房屋类型</th>\n",
       "      <th>总价/万元</th>\n",
       "      <th>户型</th>\n",
       "      <th>房屋编码</th>\n",
       "      <th>挂牌时间</th>\n",
       "      <th>朝向</th>\n",
       "      <th>楼层</th>\n",
       "      <th>装修情况</th>\n",
       "      <th>面积</th>\n",
       "    </tr>\n",
       "  </thead>\n",
       "  <tbody>\n",
       "    <tr>\n",
       "      <td>0</td>\n",
       "      <td>70</td>\n",
       "      <td>0</td>\n",
       "      <td>余杭</td>\n",
       "      <td>临平</td>\n",
       "      <td>21015</td>\n",
       "      <td>众安理想湾</td>\n",
       "      <td>2015</td>\n",
       "      <td>板楼</td>\n",
       "      <td>210.0</td>\n",
       "      <td>3室2厅</td>\n",
       "      <td>103105013026</td>\n",
       "      <td>2019-06-12</td>\n",
       "      <td>南 北</td>\n",
       "      <td>低楼层/共33层</td>\n",
       "      <td>精装</td>\n",
       "      <td>99.93</td>\n",
       "    </tr>\n",
       "    <tr>\n",
       "      <td>1</td>\n",
       "      <td>70</td>\n",
       "      <td>4</td>\n",
       "      <td>余杭</td>\n",
       "      <td>临平</td>\n",
       "      <td>28416</td>\n",
       "      <td>众安理想湾</td>\n",
       "      <td>2016</td>\n",
       "      <td>结合</td>\n",
       "      <td>780.0</td>\n",
       "      <td>6室2厅</td>\n",
       "      <td>103104324906</td>\n",
       "      <td>2019-04-04</td>\n",
       "      <td>南</td>\n",
       "      <td>联排/共3层</td>\n",
       "      <td>毛坯</td>\n",
       "      <td>274.50</td>\n",
       "    </tr>\n",
       "    <tr>\n",
       "      <td>2</td>\n",
       "      <td>70</td>\n",
       "      <td>2</td>\n",
       "      <td>余杭</td>\n",
       "      <td>临平</td>\n",
       "      <td>17323</td>\n",
       "      <td>众安理想湾</td>\n",
       "      <td>2015</td>\n",
       "      <td>板楼</td>\n",
       "      <td>220.0</td>\n",
       "      <td>3室2厅</td>\n",
       "      <td>103102855120</td>\n",
       "      <td>2018-09-07</td>\n",
       "      <td>南</td>\n",
       "      <td>高楼层/共33层</td>\n",
       "      <td>精装</td>\n",
       "      <td>127.00</td>\n",
       "    </tr>\n",
       "  </tbody>\n",
       "</table>\n",
       "</div>"
      ],
      "text/plain": [
       "   产权  关注   区  板块     单价     小区  建造时间 房屋类型  总价/万元    户型          房屋编码  \\\n",
       "0  70   0  余杭  临平  21015  众安理想湾  2015   板楼  210.0  3室2厅  103105013026   \n",
       "1  70   4  余杭  临平  28416  众安理想湾  2016   结合  780.0  6室2厅  103104324906   \n",
       "2  70   2  余杭  临平  17323  众安理想湾  2015   板楼  220.0  3室2厅  103102855120   \n",
       "\n",
       "        挂牌时间   朝向        楼层 装修情况      面积  \n",
       "0 2019-06-12  南 北  低楼层/共33层   精装   99.93  \n",
       "1 2019-04-04    南    联排/共3层   毛坯  274.50  \n",
       "2 2018-09-07    南  高楼层/共33层   精装  127.00  "
      ]
     },
     "execution_count": 16,
     "metadata": {},
     "output_type": "execute_result"
    }
   ],
   "source": [
    "df.head(3)"
   ]
  },
  {
   "cell_type": "code",
   "execution_count": 17,
   "metadata": {},
   "outputs": [],
   "source": [
    "df.to_csv(\"初步整理好的数据.csv\")"
   ]
  },
  {
   "cell_type": "code",
   "execution_count": null,
   "metadata": {},
   "outputs": [],
   "source": []
  }
 ],
 "metadata": {
  "kernelspec": {
   "display_name": "Python 3",
   "language": "python",
   "name": "python3"
  },
  "language_info": {
   "codemirror_mode": {
    "name": "ipython",
    "version": 3
   },
   "file_extension": ".py",
   "mimetype": "text/x-python",
   "name": "python",
   "nbconvert_exporter": "python",
   "pygments_lexer": "ipython3",
   "version": "3.7.4"
  }
 },
 "nbformat": 4,
 "nbformat_minor": 2
}
