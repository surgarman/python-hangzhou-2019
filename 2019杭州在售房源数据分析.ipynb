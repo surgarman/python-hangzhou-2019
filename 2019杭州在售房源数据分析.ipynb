{
 "cells": [
  {
   "cell_type": "code",
   "execution_count": 1,
   "metadata": {},
   "outputs": [],
   "source": [
    "import numpy as np\n",
    "import pandas as pd\n",
    "import matplotlib.pyplot as plt\n",
    "%matplotlib inline\n",
    "\n",
    "\n",
    "import warnings\n",
    "warnings.filterwarnings('ignore')\n",
    "\n",
    "plt.rcParams['font.sans-serif']=['SimHei']\n",
    "#⽤来正常显示中⽂标签\n",
    "plt.rcParams['axes.unicode_minus']=False \n",
    "#⽤来正常显示负号 #有中⽂出现的情况，需要u'内容'"
   ]
  },
  {
   "cell_type": "code",
   "execution_count": 4,
   "metadata": {},
   "outputs": [],
   "source": [
    "#读取数据\n",
    "data_1 = pd.read_csv(\"初步整理好的数据.csv\")\n",
    "data_2 = pd.read_csv(\"各小区经纬度详情.csv\")"
   ]
  },
  {
   "cell_type": "code",
   "execution_count": 9,
   "metadata": {},
   "outputs": [],
   "source": [
    "data_1 = data_1[[ '关注', '区', '板块', '单价', '小区', '建造时间', '房屋类型','总价/万元', '户型', '挂牌时间', '朝向', '楼层', '装修情况', '面积']]"
   ]
  },
  {
   "cell_type": "code",
   "execution_count": 11,
   "metadata": {},
   "outputs": [],
   "source": [
    "data_2 = data_2[['小区', 'lnt', 'lat']]"
   ]
  },
  {
   "cell_type": "code",
   "execution_count": 15,
   "metadata": {},
   "outputs": [],
   "source": [
    "#合并数据\n",
    "data = pd.merge(data_1,data_2,on=\"小区\")"
   ]
  },
  {
   "cell_type": "code",
   "execution_count": 17,
   "metadata": {},
   "outputs": [
    {
     "data": {
      "text/html": [
       "<div>\n",
       "<style scoped>\n",
       "    .dataframe tbody tr th:only-of-type {\n",
       "        vertical-align: middle;\n",
       "    }\n",
       "\n",
       "    .dataframe tbody tr th {\n",
       "        vertical-align: top;\n",
       "    }\n",
       "\n",
       "    .dataframe thead th {\n",
       "        text-align: right;\n",
       "    }\n",
       "</style>\n",
       "<table border=\"1\" class=\"dataframe\">\n",
       "  <thead>\n",
       "    <tr style=\"text-align: right;\">\n",
       "      <th></th>\n",
       "      <th>关注</th>\n",
       "      <th>区</th>\n",
       "      <th>板块</th>\n",
       "      <th>单价</th>\n",
       "      <th>小区</th>\n",
       "      <th>建造时间</th>\n",
       "      <th>房屋类型</th>\n",
       "      <th>总价/万元</th>\n",
       "      <th>户型</th>\n",
       "      <th>挂牌时间</th>\n",
       "      <th>朝向</th>\n",
       "      <th>楼层</th>\n",
       "      <th>装修情况</th>\n",
       "      <th>面积</th>\n",
       "      <th>lnt</th>\n",
       "      <th>lat</th>\n",
       "    </tr>\n",
       "  </thead>\n",
       "  <tbody>\n",
       "    <tr>\n",
       "      <td>0</td>\n",
       "      <td>0</td>\n",
       "      <td>余杭</td>\n",
       "      <td>临平</td>\n",
       "      <td>21015</td>\n",
       "      <td>众安理想湾</td>\n",
       "      <td>2015</td>\n",
       "      <td>板楼</td>\n",
       "      <td>210.0</td>\n",
       "      <td>3室2厅</td>\n",
       "      <td>2019-06-12</td>\n",
       "      <td>南 北</td>\n",
       "      <td>低楼层/共33层</td>\n",
       "      <td>精装</td>\n",
       "      <td>99.93</td>\n",
       "      <td>120.269174</td>\n",
       "      <td>30.43534</td>\n",
       "    </tr>\n",
       "    <tr>\n",
       "      <td>1</td>\n",
       "      <td>4</td>\n",
       "      <td>余杭</td>\n",
       "      <td>临平</td>\n",
       "      <td>28416</td>\n",
       "      <td>众安理想湾</td>\n",
       "      <td>2016</td>\n",
       "      <td>结合</td>\n",
       "      <td>780.0</td>\n",
       "      <td>6室2厅</td>\n",
       "      <td>2019-04-04</td>\n",
       "      <td>南</td>\n",
       "      <td>联排/共3层</td>\n",
       "      <td>毛坯</td>\n",
       "      <td>274.50</td>\n",
       "      <td>120.269174</td>\n",
       "      <td>30.43534</td>\n",
       "    </tr>\n",
       "    <tr>\n",
       "      <td>2</td>\n",
       "      <td>2</td>\n",
       "      <td>余杭</td>\n",
       "      <td>临平</td>\n",
       "      <td>17323</td>\n",
       "      <td>众安理想湾</td>\n",
       "      <td>2015</td>\n",
       "      <td>板楼</td>\n",
       "      <td>220.0</td>\n",
       "      <td>3室2厅</td>\n",
       "      <td>2018-09-07</td>\n",
       "      <td>南</td>\n",
       "      <td>高楼层/共33层</td>\n",
       "      <td>精装</td>\n",
       "      <td>127.00</td>\n",
       "      <td>120.269174</td>\n",
       "      <td>30.43534</td>\n",
       "    </tr>\n",
       "    <tr>\n",
       "      <td>3</td>\n",
       "      <td>4</td>\n",
       "      <td>余杭</td>\n",
       "      <td>临平</td>\n",
       "      <td>18249</td>\n",
       "      <td>众安理想湾</td>\n",
       "      <td>2015</td>\n",
       "      <td>塔楼</td>\n",
       "      <td>250.0</td>\n",
       "      <td>3室2厅</td>\n",
       "      <td>2018-08-15</td>\n",
       "      <td>南</td>\n",
       "      <td>中楼层/共33层</td>\n",
       "      <td>简装</td>\n",
       "      <td>137.00</td>\n",
       "      <td>120.269174</td>\n",
       "      <td>30.43534</td>\n",
       "    </tr>\n",
       "    <tr>\n",
       "      <td>4</td>\n",
       "      <td>1</td>\n",
       "      <td>余杭</td>\n",
       "      <td>临平</td>\n",
       "      <td>24112</td>\n",
       "      <td>众安理想湾</td>\n",
       "      <td>2015</td>\n",
       "      <td>板楼</td>\n",
       "      <td>215.0</td>\n",
       "      <td>3室2厅</td>\n",
       "      <td>2019-04-21</td>\n",
       "      <td>南</td>\n",
       "      <td>高楼层/共34层</td>\n",
       "      <td>精装</td>\n",
       "      <td>89.17</td>\n",
       "      <td>120.269174</td>\n",
       "      <td>30.43534</td>\n",
       "    </tr>\n",
       "  </tbody>\n",
       "</table>\n",
       "</div>"
      ],
      "text/plain": [
       "   关注   区  板块     单价     小区  建造时间 房屋类型  总价/万元    户型        挂牌时间   朝向  \\\n",
       "0   0  余杭  临平  21015  众安理想湾  2015   板楼  210.0  3室2厅  2019-06-12  南 北   \n",
       "1   4  余杭  临平  28416  众安理想湾  2016   结合  780.0  6室2厅  2019-04-04    南   \n",
       "2   2  余杭  临平  17323  众安理想湾  2015   板楼  220.0  3室2厅  2018-09-07    南   \n",
       "3   4  余杭  临平  18249  众安理想湾  2015   塔楼  250.0  3室2厅  2018-08-15    南   \n",
       "4   1  余杭  临平  24112  众安理想湾  2015   板楼  215.0  3室2厅  2019-04-21    南   \n",
       "\n",
       "         楼层 装修情况      面积         lnt       lat  \n",
       "0  低楼层/共33层   精装   99.93  120.269174  30.43534  \n",
       "1    联排/共3层   毛坯  274.50  120.269174  30.43534  \n",
       "2  高楼层/共33层   精装  127.00  120.269174  30.43534  \n",
       "3  中楼层/共33层   简装  137.00  120.269174  30.43534  \n",
       "4  高楼层/共34层   精装   89.17  120.269174  30.43534  "
      ]
     },
     "execution_count": 17,
     "metadata": {},
     "output_type": "execute_result"
    }
   ],
   "source": [
    "data.head()"
   ]
  },
  {
   "cell_type": "code",
   "execution_count": 19,
   "metadata": {},
   "outputs": [
    {
     "data": {
      "text/plain": [
       "0"
      ]
     },
     "execution_count": 19,
     "metadata": {},
     "output_type": "execute_result"
    }
   ],
   "source": [
    "#检查空值\n",
    "data.isnull().values.sum()"
   ]
  },
  {
   "cell_type": "code",
   "execution_count": 20,
   "metadata": {},
   "outputs": [],
   "source": [
    "#保存合并后的最后清洗好的数据\n",
    "data.to_csv(\"最后清洗好的数据.csv\")"
   ]
  },
  {
   "cell_type": "code",
   "execution_count": 21,
   "metadata": {},
   "outputs": [],
   "source": [
    "#————————————————开始数据分析阶段——————————————"
   ]
  },
  {
   "cell_type": "code",
   "execution_count": 60,
   "metadata": {},
   "outputs": [
    {
     "data": {
      "image/png": "[encoded data removed]",
      "text/plain": [
       "<Figure size 864x360 with 1 Axes>"
      ]
     },
     "metadata": {
      "needs_background": "light"
     },
     "output_type": "display_data"
    }
   ],
   "source": [
    "#5.1.1杭州各区域房产市场概况\n",
    "d = data.groupby(\"区\").sum().sort_values(\"总价/万元\",ascending=False)\n",
    "\n",
    "plt.figure(figsize=(12,5))\n",
    "plt.bar(d.index,d[\"总价/万元\"])\n",
    "plt.title(\"2019杭州各区在售房产总值分布情况\")\n",
    "\n",
    "for i in range(len(d[\"总价/万元\"])):\n",
    "    plt.text(i-0.3,d[\"总价/万元\"][i],d[\"总价/万元\"][5],fontsize=10)"
   ]
  },
  {
   "cell_type": "code",
   "execution_count": 67,
   "metadata": {},
   "outputs": [
    {
     "data": {
      "text/plain": [
       "(0.0, 190.0)"
      ]
     },
     "execution_count": 67,
     "metadata": {},
     "output_type": "execute_result"
    },
    {
     "data": {
      "image/png": "[encoded data removed]",
      "text/plain": [
       "<Figure size 864x360 with 1 Axes>"
      ]
     },
     "metadata": {
      "needs_background": "light"
     },
     "output_type": "display_data"
    }
   ],
   "source": [
    "df = data.groupby(\"小区\").mean()\n",
    "\n",
    "\n",
    "#  matplotlib.axes.Axes.hist() 方法的接口\n",
    "\n",
    "plt.figure(figsize=(12,5))\n",
    "n, bins, patches = plt.hist(x=df[\"单价\"], bins='auto',\n",
    "                            alpha=0.7, rwidth=1)\n",
    "plt.grid(axis='y', alpha=0.75)\n",
    "plt.xlabel('Value')\n",
    "plt.ylabel('number')\n",
    "plt.title('2019杭州在售房源单价直方图')\n",
    "#plt.text(23, 45, r'$\\mu=15, b=3$')\n",
    "maxfreq = n.max()\n",
    "# 设置y轴的上限\n",
    "plt.ylim(ymax=np.ceil(maxfreq / 10) * 10 if maxfreq % 10 else maxfreq + 10)"
   ]
  },
  {
   "cell_type": "code",
   "execution_count": 75,
   "metadata": {
    "scrolled": false
   },
   "outputs": [
    {
     "data": {
      "image/png": "[encoded data removed]",
      "text/plain": [
       "<Figure size 576x432 with 1 Axes>"
      ]
     },
     "metadata": {
      "needs_background": "light"
     },
     "output_type": "display_data"
    }
   ],
   "source": [
    "# plt.scatter()散点图\n",
    "# plt.scatter(x, y, s=20, c=None, marker='o', cmap=None, norm=None, vmin=None, vmax=None, \n",
    "# alpha=None, linewidths=None, verts=None, edgecolors=None, hold=None, data=None, **kwargs)\n",
    "\n",
    "plt.figure(figsize=(8,6))\n",
    "x = data[\"lnt\"]\n",
    "y = data[\"lat\"]\n",
    "plt.scatter(x,y,marker='o',\n",
    "           s = 10,\n",
    "           cmap = 'Reds',\n",
    "           c =data[\"总价/万元\"],\n",
    "           alpha = 0.8,)\n",
    "plt.grid()\n",
    "# s：散点的大小\n",
    "# c：散点的颜色\n",
    "# vmin,vmax：亮度设置，标量\n",
    "# cmap：colormap"
   ]
  },
  {
   "cell_type": "code",
   "execution_count": 76,
   "metadata": {},
   "outputs": [],
   "source": [
    "d = data.groupby(\"区\").sum()"
   ]
  },
  {
   "cell_type": "code",
   "execution_count": 78,
   "metadata": {},
   "outputs": [],
   "source": [
    "d[\"d\"] = d[\"总价/万元\"] / d[\"面积\"]"
   ]
  },
  {
   "cell_type": "code",
   "execution_count": 83,
   "metadata": {},
   "outputs": [
    {
     "data": {
      "text/plain": [
       "Text(0.5, 1.0, '2019杭州各区在售房产系数d分布情况')"
      ]
     },
     "execution_count": 83,
     "metadata": {},
     "output_type": "execute_result"
    },
    {
     "data": {
      "image/png": "[encoded data removed]",
      "text/plain": [
       "<Figure size 864x360 with 1 Axes>"
      ]
     },
     "metadata": {
      "needs_background": "light"
     },
     "output_type": "display_data"
    }
   ],
   "source": [
    "plt.figure(figsize=(12,5))\n",
    "plt.bar(d.index,d[\"d\"])\n",
    "plt.title(\"2019杭州各区在售房产系数d分布情况\")\n",
    "\n",
    "#for i in range(len(d[\"d\"])):\n",
    "    #plt.text(i-0.3,d[\"d\"][i],d[\"d\"][5],fontsize=10)"
   ]
  },
  {
   "cell_type": "code",
   "execution_count": 86,
   "metadata": {},
   "outputs": [],
   "source": [
    "#进一步探究分布最多的房子是什么样子的。\n",
    "dz = data[(data[\"单价\"]>20000)&(data[\"单价\"]<50000)]"
   ]
  },
  {
   "cell_type": "code",
   "execution_count": 90,
   "metadata": {},
   "outputs": [
    {
     "data": {
      "text/plain": [
       "0.7482612934676633"
      ]
     },
     "execution_count": 90,
     "metadata": {},
     "output_type": "execute_result"
    }
   ],
   "source": [
    "dz[\"单价\"].count() / data[\"单价\"].count()"
   ]
  },
  {
   "cell_type": "code",
   "execution_count": 96,
   "metadata": {},
   "outputs": [],
   "source": [
    "dcloud = dz.groupby(\"板块\").count()"
   ]
  },
  {
   "cell_type": "code",
   "execution_count": 99,
   "metadata": {},
   "outputs": [],
   "source": [
    "dcloud[\"address\"]=dcloud.index"
   ]
  },
  {
   "cell_type": "code",
   "execution_count": 105,
   "metadata": {},
   "outputs": [],
   "source": [
    "data = []\n",
    "for i in range(len(dcloud[\"address\"])):\n",
    "    data.append((dcloud[\"address\"][i],str(dcloud[\"区\"][i])))"
   ]
  },
  {
   "cell_type": "code",
   "execution_count": 116,
   "metadata": {},
   "outputs": [
    {
     "data": {
      "text/plain": [
       "'C:\\\\Users\\\\ldx\\\\Desktop\\\\2019年杭州在售房源数据分析(Python)\\\\wordcloud.html'"
      ]
     },
     "execution_count": 116,
     "metadata": {},
     "output_type": "execute_result"
    }
   ],
   "source": [
    "import pyecharts.options as opts\n",
    "from pyecharts.charts import WordCloud\n",
    "\n",
    "\n",
    "(\n",
    "    WordCloud()\n",
    "    .add(series_name=\"热点数值\", data_pair=data, word_size_range=[1, 100])\n",
    "    .set_global_opts(\n",
    "        title_opts=opts.TitleOpts(\n",
    "            title=\" \", title_textstyle_opts=opts.TextStyleOpts(font_size=23)\n",
    "        ),\n",
    "        tooltip_opts=opts.TooltipOpts(is_show=True),\n",
    "    )\n",
    "    .render(\"wordcloud.html\")\n",
    ")\n"
   ]
  },
  {
   "cell_type": "code",
   "execution_count": 120,
   "metadata": {},
   "outputs": [
    {
     "data": {
      "text/plain": [
       "'C:\\\\Users\\\\ldx\\\\Desktop\\\\2019年杭州在售房源数据分析(Python)\\\\wordcloud2.html'"
      ]
     },
     "execution_count": 120,
     "metadata": {},
     "output_type": "execute_result"
    }
   ],
   "source": [
    "dcloud = dz.groupby(\"小区\").count()\n",
    "dcloud[\"add\"]=dcloud.index\n",
    "data = []\n",
    "for i in range(len(dcloud[\"add\"])):\n",
    "    data.append((dcloud[\"add\"][i],str(dcloud[\"关注\"][i])))\n",
    "import pyecharts.options as opts\n",
    "from pyecharts.charts import WordCloud\n",
    "\n",
    "\n",
    "(\n",
    "    WordCloud()\n",
    "    .add(series_name=\"热点数值\", data_pair=data, word_size_range=[1, 100])\n",
    "    .set_global_opts(\n",
    "        title_opts=opts.TitleOpts(\n",
    "            title=\" \", title_textstyle_opts=opts.TextStyleOpts(font_size=23)\n",
    "        ),\n",
    "        tooltip_opts=opts.TooltipOpts(is_show=True),\n",
    "    )\n",
    "    .render(\"wordcloud2.html\")\n",
    ") "
   ]
  },
  {
   "cell_type": "code",
   "execution_count": 121,
   "metadata": {},
   "outputs": [
    {
     "data": {
      "text/html": [
       "<div>\n",
       "<style scoped>\n",
       "    .dataframe tbody tr th:only-of-type {\n",
       "        vertical-align: middle;\n",
       "    }\n",
       "\n",
       "    .dataframe tbody tr th {\n",
       "        vertical-align: top;\n",
       "    }\n",
       "\n",
       "    .dataframe thead th {\n",
       "        text-align: right;\n",
       "    }\n",
       "</style>\n",
       "<table border=\"1\" class=\"dataframe\">\n",
       "  <thead>\n",
       "    <tr style=\"text-align: right;\">\n",
       "      <th></th>\n",
       "      <th>关注</th>\n",
       "      <th>区</th>\n",
       "      <th>板块</th>\n",
       "      <th>单价</th>\n",
       "      <th>小区</th>\n",
       "      <th>建造时间</th>\n",
       "      <th>房屋类型</th>\n",
       "      <th>总价/万元</th>\n",
       "      <th>户型</th>\n",
       "      <th>挂牌时间</th>\n",
       "      <th>朝向</th>\n",
       "      <th>楼层</th>\n",
       "      <th>装修情况</th>\n",
       "      <th>面积</th>\n",
       "      <th>lnt</th>\n",
       "      <th>lat</th>\n",
       "    </tr>\n",
       "  </thead>\n",
       "  <tbody>\n",
       "    <tr>\n",
       "      <td>0</td>\n",
       "      <td>0</td>\n",
       "      <td>余杭</td>\n",
       "      <td>临平</td>\n",
       "      <td>21015</td>\n",
       "      <td>众安理想湾</td>\n",
       "      <td>2015</td>\n",
       "      <td>板楼</td>\n",
       "      <td>210.0</td>\n",
       "      <td>3室2厅</td>\n",
       "      <td>2019-06-12</td>\n",
       "      <td>南 北</td>\n",
       "      <td>低楼层/共33层</td>\n",
       "      <td>精装</td>\n",
       "      <td>99.93</td>\n",
       "      <td>120.269174</td>\n",
       "      <td>30.435340</td>\n",
       "    </tr>\n",
       "    <tr>\n",
       "      <td>1</td>\n",
       "      <td>4</td>\n",
       "      <td>余杭</td>\n",
       "      <td>临平</td>\n",
       "      <td>28416</td>\n",
       "      <td>众安理想湾</td>\n",
       "      <td>2016</td>\n",
       "      <td>结合</td>\n",
       "      <td>780.0</td>\n",
       "      <td>6室2厅</td>\n",
       "      <td>2019-04-04</td>\n",
       "      <td>南</td>\n",
       "      <td>联排/共3层</td>\n",
       "      <td>毛坯</td>\n",
       "      <td>274.50</td>\n",
       "      <td>120.269174</td>\n",
       "      <td>30.435340</td>\n",
       "    </tr>\n",
       "    <tr>\n",
       "      <td>4</td>\n",
       "      <td>1</td>\n",
       "      <td>余杭</td>\n",
       "      <td>临平</td>\n",
       "      <td>24112</td>\n",
       "      <td>众安理想湾</td>\n",
       "      <td>2015</td>\n",
       "      <td>板楼</td>\n",
       "      <td>215.0</td>\n",
       "      <td>3室2厅</td>\n",
       "      <td>2019-04-21</td>\n",
       "      <td>南</td>\n",
       "      <td>高楼层/共34层</td>\n",
       "      <td>精装</td>\n",
       "      <td>89.17</td>\n",
       "      <td>120.269174</td>\n",
       "      <td>30.435340</td>\n",
       "    </tr>\n",
       "    <tr>\n",
       "      <td>5</td>\n",
       "      <td>1</td>\n",
       "      <td>余杭</td>\n",
       "      <td>临平</td>\n",
       "      <td>24882</td>\n",
       "      <td>众安理想湾</td>\n",
       "      <td>2015</td>\n",
       "      <td>塔楼</td>\n",
       "      <td>220.0</td>\n",
       "      <td>3室2厅</td>\n",
       "      <td>2019-06-03</td>\n",
       "      <td>南</td>\n",
       "      <td>低楼层/共34层</td>\n",
       "      <td>精装</td>\n",
       "      <td>88.42</td>\n",
       "      <td>120.269174</td>\n",
       "      <td>30.435340</td>\n",
       "    </tr>\n",
       "    <tr>\n",
       "      <td>7</td>\n",
       "      <td>1</td>\n",
       "      <td>余杭</td>\n",
       "      <td>临平</td>\n",
       "      <td>21625</td>\n",
       "      <td>众安理想湾</td>\n",
       "      <td>2015</td>\n",
       "      <td>板楼</td>\n",
       "      <td>173.0</td>\n",
       "      <td>2室1厅</td>\n",
       "      <td>2019-03-08</td>\n",
       "      <td>南</td>\n",
       "      <td>低楼层/共34层</td>\n",
       "      <td>精装</td>\n",
       "      <td>80.00</td>\n",
       "      <td>120.269174</td>\n",
       "      <td>30.435340</td>\n",
       "    </tr>\n",
       "    <tr>\n",
       "      <td>...</td>\n",
       "      <td>...</td>\n",
       "      <td>...</td>\n",
       "      <td>...</td>\n",
       "      <td>...</td>\n",
       "      <td>...</td>\n",
       "      <td>...</td>\n",
       "      <td>...</td>\n",
       "      <td>...</td>\n",
       "      <td>...</td>\n",
       "      <td>...</td>\n",
       "      <td>...</td>\n",
       "      <td>...</td>\n",
       "      <td>...</td>\n",
       "      <td>...</td>\n",
       "      <td>...</td>\n",
       "      <td>...</td>\n",
       "    </tr>\n",
       "    <tr>\n",
       "      <td>30755</td>\n",
       "      <td>0</td>\n",
       "      <td>余杭</td>\n",
       "      <td>瓶窑</td>\n",
       "      <td>21954</td>\n",
       "      <td>北湖绿洲花园</td>\n",
       "      <td>未知年建</td>\n",
       "      <td>板楼</td>\n",
       "      <td>320.0</td>\n",
       "      <td>4室2厅</td>\n",
       "      <td>2019-03-30</td>\n",
       "      <td>南 北</td>\n",
       "      <td>中楼层/共11层</td>\n",
       "      <td>精装</td>\n",
       "      <td>145.76</td>\n",
       "      <td>119.976280</td>\n",
       "      <td>30.377439</td>\n",
       "    </tr>\n",
       "    <tr>\n",
       "      <td>30759</td>\n",
       "      <td>10</td>\n",
       "      <td>余杭</td>\n",
       "      <td>瓶窑</td>\n",
       "      <td>21000</td>\n",
       "      <td>北湖绿洲花园</td>\n",
       "      <td>未知年建</td>\n",
       "      <td>板楼</td>\n",
       "      <td>168.0</td>\n",
       "      <td>2室2厅</td>\n",
       "      <td>2019-04-09</td>\n",
       "      <td>南</td>\n",
       "      <td>高楼层/共6层</td>\n",
       "      <td>精装</td>\n",
       "      <td>80.00</td>\n",
       "      <td>119.976280</td>\n",
       "      <td>30.377439</td>\n",
       "    </tr>\n",
       "    <tr>\n",
       "      <td>30761</td>\n",
       "      <td>0</td>\n",
       "      <td>余杭</td>\n",
       "      <td>瓶窑</td>\n",
       "      <td>21135</td>\n",
       "      <td>北湖绿洲花园</td>\n",
       "      <td>2013</td>\n",
       "      <td>板楼</td>\n",
       "      <td>205.0</td>\n",
       "      <td>3室2厅</td>\n",
       "      <td>2018-11-06</td>\n",
       "      <td>南</td>\n",
       "      <td>高楼层/共6层</td>\n",
       "      <td>精装</td>\n",
       "      <td>97.00</td>\n",
       "      <td>119.976280</td>\n",
       "      <td>30.377439</td>\n",
       "    </tr>\n",
       "    <tr>\n",
       "      <td>30764</td>\n",
       "      <td>18</td>\n",
       "      <td>余杭</td>\n",
       "      <td>瓶窑</td>\n",
       "      <td>20308</td>\n",
       "      <td>北湖绿洲花园</td>\n",
       "      <td>2013</td>\n",
       "      <td>板楼</td>\n",
       "      <td>190.0</td>\n",
       "      <td>3室2厅</td>\n",
       "      <td>2018-07-02</td>\n",
       "      <td>南</td>\n",
       "      <td>低楼层/共11层</td>\n",
       "      <td>精装</td>\n",
       "      <td>93.56</td>\n",
       "      <td>119.976280</td>\n",
       "      <td>30.377439</td>\n",
       "    </tr>\n",
       "    <tr>\n",
       "      <td>30768</td>\n",
       "      <td>0</td>\n",
       "      <td>余杭</td>\n",
       "      <td>瓶窑</td>\n",
       "      <td>22314</td>\n",
       "      <td>北湖绿洲花园</td>\n",
       "      <td>2013</td>\n",
       "      <td>板楼</td>\n",
       "      <td>600.0</td>\n",
       "      <td>5室3厅</td>\n",
       "      <td>2019-05-08</td>\n",
       "      <td>南</td>\n",
       "      <td>共3层</td>\n",
       "      <td>毛坯</td>\n",
       "      <td>268.90</td>\n",
       "      <td>119.976280</td>\n",
       "      <td>30.377439</td>\n",
       "    </tr>\n",
       "  </tbody>\n",
       "</table>\n",
       "<p>23024 rows × 16 columns</p>\n",
       "</div>"
      ],
      "text/plain": [
       "       关注   区  板块     单价      小区  建造时间 房屋类型  总价/万元    户型        挂牌时间   朝向  \\\n",
       "0       0  余杭  临平  21015   众安理想湾  2015   板楼  210.0  3室2厅  2019-06-12  南 北   \n",
       "1       4  余杭  临平  28416   众安理想湾  2016   结合  780.0  6室2厅  2019-04-04    南   \n",
       "4       1  余杭  临平  24112   众安理想湾  2015   板楼  215.0  3室2厅  2019-04-21    南   \n",
       "5       1  余杭  临平  24882   众安理想湾  2015   塔楼  220.0  3室2厅  2019-06-03    南   \n",
       "7       1  余杭  临平  21625   众安理想湾  2015   板楼  173.0  2室1厅  2019-03-08    南   \n",
       "...    ..  ..  ..    ...     ...   ...  ...    ...   ...         ...  ...   \n",
       "30755   0  余杭  瓶窑  21954  北湖绿洲花园  未知年建   板楼  320.0  4室2厅  2019-03-30  南 北   \n",
       "30759  10  余杭  瓶窑  21000  北湖绿洲花园  未知年建   板楼  168.0  2室2厅  2019-04-09    南   \n",
       "30761   0  余杭  瓶窑  21135  北湖绿洲花园  2013   板楼  205.0  3室2厅  2018-11-06    南   \n",
       "30764  18  余杭  瓶窑  20308  北湖绿洲花园  2013   板楼  190.0  3室2厅  2018-07-02    南   \n",
       "30768   0  余杭  瓶窑  22314  北湖绿洲花园  2013   板楼  600.0  5室3厅  2019-05-08    南   \n",
       "\n",
       "             楼层 装修情况      面积         lnt        lat  \n",
       "0      低楼层/共33层   精装   99.93  120.269174  30.435340  \n",
       "1        联排/共3层   毛坯  274.50  120.269174  30.435340  \n",
       "4      高楼层/共34层   精装   89.17  120.269174  30.435340  \n",
       "5      低楼层/共34层   精装   88.42  120.269174  30.435340  \n",
       "7      低楼层/共34层   精装   80.00  120.269174  30.435340  \n",
       "...         ...  ...     ...         ...        ...  \n",
       "30755  中楼层/共11层   精装  145.76  119.976280  30.377439  \n",
       "30759   高楼层/共6层   精装   80.00  119.976280  30.377439  \n",
       "30761   高楼层/共6层   精装   97.00  119.976280  30.377439  \n",
       "30764  低楼层/共11层   精装   93.56  119.976280  30.377439  \n",
       "30768       共3层   毛坯  268.90  119.976280  30.377439  \n",
       "\n",
       "[23024 rows x 16 columns]"
      ]
     },
     "execution_count": 121,
     "metadata": {},
     "output_type": "execute_result"
    }
   ],
   "source": []
  },
  {
   "cell_type": "code",
   "execution_count": 134,
   "metadata": {},
   "outputs": [
    {
     "data": {
      "text/plain": [
       "Text(0.5, 1.0, '面积-单价 关系图')"
      ]
     },
     "execution_count": 134,
     "metadata": {},
     "output_type": "execute_result"
    },
    {
     "data": {
      "image/png": "[encoded data removed]",
      "text/plain": [
       "<Figure size 576x432 with 1 Axes>"
      ]
     },
     "metadata": {
      "needs_background": "light"
     },
     "output_type": "display_data"
    }
   ],
   "source": [
    "# plt.scatter()散点图\n",
    "# plt.scatter(x, y, s=20, c=None, marker='o', cmap=None, norm=None, vmin=None, vmax=None, \n",
    "# alpha=None, linewidths=None, verts=None, edgecolors=None, hold=None, data=None, **kwargs)\n",
    "\n",
    "plt.figure(figsize=(8,6))\n",
    "y = dz[\"面积\"]\n",
    "x = dz[\"单价\"]\n",
    "plt.scatter(x,y,marker='o',\n",
    "           s = 10,\n",
    "           cmap = 'Blues',\n",
    "           c = x,\n",
    "           alpha = 0.8,)\n",
    "plt.grid()\n",
    "# s：散点的大小\n",
    "# c：散点的颜色\n",
    "# vmin,vmax：亮度设置，标量\n",
    "# cmap：colormap\n",
    "\n",
    "plt.title(\"面积-单价 关系图\")"
   ]
  },
  {
   "cell_type": "code",
   "execution_count": 139,
   "metadata": {},
   "outputs": [
    {
     "data": {
      "text/html": [
       "<div>\n",
       "<style scoped>\n",
       "    .dataframe tbody tr th:only-of-type {\n",
       "        vertical-align: middle;\n",
       "    }\n",
       "\n",
       "    .dataframe tbody tr th {\n",
       "        vertical-align: top;\n",
       "    }\n",
       "\n",
       "    .dataframe thead th {\n",
       "        text-align: right;\n",
       "    }\n",
       "</style>\n",
       "<table border=\"1\" class=\"dataframe\">\n",
       "  <thead>\n",
       "    <tr style=\"text-align: right;\">\n",
       "      <th></th>\n",
       "      <th>面积</th>\n",
       "      <th>单价</th>\n",
       "    </tr>\n",
       "  </thead>\n",
       "  <tbody>\n",
       "    <tr>\n",
       "      <td>0</td>\n",
       "      <td>99.93</td>\n",
       "      <td>21015</td>\n",
       "    </tr>\n",
       "    <tr>\n",
       "      <td>1</td>\n",
       "      <td>274.50</td>\n",
       "      <td>28416</td>\n",
       "    </tr>\n",
       "    <tr>\n",
       "      <td>4</td>\n",
       "      <td>89.17</td>\n",
       "      <td>24112</td>\n",
       "    </tr>\n",
       "    <tr>\n",
       "      <td>5</td>\n",
       "      <td>88.42</td>\n",
       "      <td>24882</td>\n",
       "    </tr>\n",
       "    <tr>\n",
       "      <td>7</td>\n",
       "      <td>80.00</td>\n",
       "      <td>21625</td>\n",
       "    </tr>\n",
       "    <tr>\n",
       "      <td>...</td>\n",
       "      <td>...</td>\n",
       "      <td>...</td>\n",
       "    </tr>\n",
       "    <tr>\n",
       "      <td>30755</td>\n",
       "      <td>145.76</td>\n",
       "      <td>21954</td>\n",
       "    </tr>\n",
       "    <tr>\n",
       "      <td>30759</td>\n",
       "      <td>80.00</td>\n",
       "      <td>21000</td>\n",
       "    </tr>\n",
       "    <tr>\n",
       "      <td>30761</td>\n",
       "      <td>97.00</td>\n",
       "      <td>21135</td>\n",
       "    </tr>\n",
       "    <tr>\n",
       "      <td>30764</td>\n",
       "      <td>93.56</td>\n",
       "      <td>20308</td>\n",
       "    </tr>\n",
       "    <tr>\n",
       "      <td>30768</td>\n",
       "      <td>268.90</td>\n",
       "      <td>22314</td>\n",
       "    </tr>\n",
       "  </tbody>\n",
       "</table>\n",
       "<p>23024 rows × 2 columns</p>\n",
       "</div>"
      ],
      "text/plain": [
       "           面积     单价\n",
       "0       99.93  21015\n",
       "1      274.50  28416\n",
       "4       89.17  24112\n",
       "5       88.42  24882\n",
       "7       80.00  21625\n",
       "...       ...    ...\n",
       "30755  145.76  21954\n",
       "30759   80.00  21000\n",
       "30761   97.00  21135\n",
       "30764   93.56  20308\n",
       "30768  268.90  22314\n",
       "\n",
       "[23024 rows x 2 columns]"
      ]
     },
     "execution_count": 139,
     "metadata": {},
     "output_type": "execute_result"
    }
   ],
   "source": []
  },
  {
   "cell_type": "code",
   "execution_count": 153,
   "metadata": {},
   "outputs": [
    {
     "data": {
      "text/plain": [
       "<matplotlib.axes._subplots.AxesSubplot at 0x1cd62c42088>"
      ]
     },
     "execution_count": 153,
     "metadata": {},
     "output_type": "execute_result"
    },
    {
     "data": {
      "image/png": "[encoded data removed]",
      "text/plain": [
       "<Figure size 864x360 with 1 Axes>"
      ]
     },
     "metadata": {
      "needs_background": "light"
     },
     "output_type": "display_data"
    }
   ],
   "source": [
    "data = pd.merge(data_1,data_2,on=\"小区\")\n",
    "data.groupby(\"挂牌时间\").count()[\"区\"].plot(figsize=(12,5),title = \"2019年杭州房屋挂牌情况\")"
   ]
  },
  {
   "cell_type": "code",
   "execution_count": 178,
   "metadata": {},
   "outputs": [
    {
     "data": {
      "text/plain": [
       "[<matplotlib.lines.Line2D at 0x1cd64709e88>]"
      ]
     },
     "execution_count": 178,
     "metadata": {},
     "output_type": "execute_result"
    },
    {
     "data": {
      "image/png": "[encoded data removed]",
      "text/plain": [
       "<Figure size 1152x648 with 1 Axes>"
      ]
     },
     "metadata": {
      "needs_background": "light"
     },
     "output_type": "display_data"
    }
   ],
   "source": [
    "dd = data.groupby(\"建造时间\").count()[\"区\"]\n",
    "\n",
    "dd = dd[\"1964\":\"2019\"]\n",
    "plt.figure(figsize=(16,9))\n",
    "plt.title(\"2019年杭州房屋建造时间分布情况\")\n",
    "plt.plot(dd.index,dd)"
   ]
  },
  {
   "cell_type": "code",
   "execution_count": 179,
   "metadata": {},
   "outputs": [
    {
     "data": {
      "text/plain": [
       "建造时间\n",
       "1964       1\n",
       "1973       2\n",
       "1977       1\n",
       "1978       2\n",
       "1980      16\n",
       "1981       9\n",
       "1982      37\n",
       "1983      32\n",
       "1984      41\n",
       "1985     153\n",
       "1986     134\n",
       "1987      67\n",
       "1988     352\n",
       "1989     328\n",
       "1990     216\n",
       "1991      85\n",
       "1992      93\n",
       "1993     209\n",
       "1994     157\n",
       "1995     474\n",
       "1996     535\n",
       "1997     366\n",
       "1998     925\n",
       "1999     396\n",
       "2000    1280\n",
       "2001     180\n",
       "2002     353\n",
       "2003     642\n",
       "2004     642\n",
       "2005     932\n",
       "2006    1164\n",
       "2007    1228\n",
       "2008    1206\n",
       "2009    1084\n",
       "2010    1700\n",
       "2011    1087\n",
       "2012    1590\n",
       "2013    1670\n",
       "2014    1831\n",
       "2015    1701\n",
       "2016    2615\n",
       "2017    1657\n",
       "2018     589\n",
       "2019      50\n",
       "Name: 区, dtype: int64"
      ]
     },
     "execution_count": 179,
     "metadata": {},
     "output_type": "execute_result"
    }
   ],
   "source": [
    "dd"
   ]
  },
  {
   "cell_type": "code",
   "execution_count": 180,
   "metadata": {},
   "outputs": [],
   "source": [
    "#整理数据导入高德地图"
   ]
  },
  {
   "cell_type": "code",
   "execution_count": 181,
   "metadata": {},
   "outputs": [
    {
     "data": {
      "text/html": [
       "<div>\n",
       "<style scoped>\n",
       "    .dataframe tbody tr th:only-of-type {\n",
       "        vertical-align: middle;\n",
       "    }\n",
       "\n",
       "    .dataframe tbody tr th {\n",
       "        vertical-align: top;\n",
       "    }\n",
       "\n",
       "    .dataframe thead th {\n",
       "        text-align: right;\n",
       "    }\n",
       "</style>\n",
       "<table border=\"1\" class=\"dataframe\">\n",
       "  <thead>\n",
       "    <tr style=\"text-align: right;\">\n",
       "      <th></th>\n",
       "      <th>关注</th>\n",
       "      <th>区</th>\n",
       "      <th>板块</th>\n",
       "      <th>单价</th>\n",
       "      <th>小区</th>\n",
       "      <th>建造时间</th>\n",
       "      <th>房屋类型</th>\n",
       "      <th>总价/万元</th>\n",
       "      <th>户型</th>\n",
       "      <th>挂牌时间</th>\n",
       "      <th>朝向</th>\n",
       "      <th>楼层</th>\n",
       "      <th>装修情况</th>\n",
       "      <th>面积</th>\n",
       "      <th>lnt</th>\n",
       "      <th>lat</th>\n",
       "    </tr>\n",
       "  </thead>\n",
       "  <tbody>\n",
       "    <tr>\n",
       "      <td>0</td>\n",
       "      <td>0</td>\n",
       "      <td>余杭</td>\n",
       "      <td>临平</td>\n",
       "      <td>21015</td>\n",
       "      <td>众安理想湾</td>\n",
       "      <td>2015</td>\n",
       "      <td>板楼</td>\n",
       "      <td>210.0</td>\n",
       "      <td>3室2厅</td>\n",
       "      <td>2019-06-12</td>\n",
       "      <td>南 北</td>\n",
       "      <td>低楼层/共33层</td>\n",
       "      <td>精装</td>\n",
       "      <td>99.93</td>\n",
       "      <td>120.269174</td>\n",
       "      <td>30.435340</td>\n",
       "    </tr>\n",
       "    <tr>\n",
       "      <td>1</td>\n",
       "      <td>4</td>\n",
       "      <td>余杭</td>\n",
       "      <td>临平</td>\n",
       "      <td>28416</td>\n",
       "      <td>众安理想湾</td>\n",
       "      <td>2016</td>\n",
       "      <td>结合</td>\n",
       "      <td>780.0</td>\n",
       "      <td>6室2厅</td>\n",
       "      <td>2019-04-04</td>\n",
       "      <td>南</td>\n",
       "      <td>联排/共3层</td>\n",
       "      <td>毛坯</td>\n",
       "      <td>274.50</td>\n",
       "      <td>120.269174</td>\n",
       "      <td>30.435340</td>\n",
       "    </tr>\n",
       "    <tr>\n",
       "      <td>2</td>\n",
       "      <td>2</td>\n",
       "      <td>余杭</td>\n",
       "      <td>临平</td>\n",
       "      <td>17323</td>\n",
       "      <td>众安理想湾</td>\n",
       "      <td>2015</td>\n",
       "      <td>板楼</td>\n",
       "      <td>220.0</td>\n",
       "      <td>3室2厅</td>\n",
       "      <td>2018-09-07</td>\n",
       "      <td>南</td>\n",
       "      <td>高楼层/共33层</td>\n",
       "      <td>精装</td>\n",
       "      <td>127.00</td>\n",
       "      <td>120.269174</td>\n",
       "      <td>30.435340</td>\n",
       "    </tr>\n",
       "    <tr>\n",
       "      <td>3</td>\n",
       "      <td>4</td>\n",
       "      <td>余杭</td>\n",
       "      <td>临平</td>\n",
       "      <td>18249</td>\n",
       "      <td>众安理想湾</td>\n",
       "      <td>2015</td>\n",
       "      <td>塔楼</td>\n",
       "      <td>250.0</td>\n",
       "      <td>3室2厅</td>\n",
       "      <td>2018-08-15</td>\n",
       "      <td>南</td>\n",
       "      <td>中楼层/共33层</td>\n",
       "      <td>简装</td>\n",
       "      <td>137.00</td>\n",
       "      <td>120.269174</td>\n",
       "      <td>30.435340</td>\n",
       "    </tr>\n",
       "    <tr>\n",
       "      <td>4</td>\n",
       "      <td>1</td>\n",
       "      <td>余杭</td>\n",
       "      <td>临平</td>\n",
       "      <td>24112</td>\n",
       "      <td>众安理想湾</td>\n",
       "      <td>2015</td>\n",
       "      <td>板楼</td>\n",
       "      <td>215.0</td>\n",
       "      <td>3室2厅</td>\n",
       "      <td>2019-04-21</td>\n",
       "      <td>南</td>\n",
       "      <td>高楼层/共34层</td>\n",
       "      <td>精装</td>\n",
       "      <td>89.17</td>\n",
       "      <td>120.269174</td>\n",
       "      <td>30.435340</td>\n",
       "    </tr>\n",
       "    <tr>\n",
       "      <td>...</td>\n",
       "      <td>...</td>\n",
       "      <td>...</td>\n",
       "      <td>...</td>\n",
       "      <td>...</td>\n",
       "      <td>...</td>\n",
       "      <td>...</td>\n",
       "      <td>...</td>\n",
       "      <td>...</td>\n",
       "      <td>...</td>\n",
       "      <td>...</td>\n",
       "      <td>...</td>\n",
       "      <td>...</td>\n",
       "      <td>...</td>\n",
       "      <td>...</td>\n",
       "      <td>...</td>\n",
       "      <td>...</td>\n",
       "    </tr>\n",
       "    <tr>\n",
       "      <td>30765</td>\n",
       "      <td>6</td>\n",
       "      <td>余杭</td>\n",
       "      <td>瓶窑</td>\n",
       "      <td>19566</td>\n",
       "      <td>北湖绿洲花园</td>\n",
       "      <td>2013</td>\n",
       "      <td>板楼</td>\n",
       "      <td>180.0</td>\n",
       "      <td>2室2厅</td>\n",
       "      <td>2018-07-07</td>\n",
       "      <td>南</td>\n",
       "      <td>低楼层/共11层</td>\n",
       "      <td>精装</td>\n",
       "      <td>92.00</td>\n",
       "      <td>119.976280</td>\n",
       "      <td>30.377439</td>\n",
       "    </tr>\n",
       "    <tr>\n",
       "      <td>30766</td>\n",
       "      <td>0</td>\n",
       "      <td>余杭</td>\n",
       "      <td>瓶窑</td>\n",
       "      <td>17557</td>\n",
       "      <td>北湖绿洲花园</td>\n",
       "      <td>未知年建</td>\n",
       "      <td>板楼</td>\n",
       "      <td>240.0</td>\n",
       "      <td>4室2厅</td>\n",
       "      <td>2019-05-08</td>\n",
       "      <td>南</td>\n",
       "      <td>高楼层/共6层</td>\n",
       "      <td>精装</td>\n",
       "      <td>136.70</td>\n",
       "      <td>119.976280</td>\n",
       "      <td>30.377439</td>\n",
       "    </tr>\n",
       "    <tr>\n",
       "      <td>30767</td>\n",
       "      <td>0</td>\n",
       "      <td>余杭</td>\n",
       "      <td>瓶窑</td>\n",
       "      <td>19613</td>\n",
       "      <td>北湖绿洲花园</td>\n",
       "      <td>2013</td>\n",
       "      <td>板楼</td>\n",
       "      <td>560.0</td>\n",
       "      <td>5室2厅</td>\n",
       "      <td>2019-04-14</td>\n",
       "      <td>南</td>\n",
       "      <td>联排/共3层</td>\n",
       "      <td>毛坯</td>\n",
       "      <td>285.53</td>\n",
       "      <td>119.976280</td>\n",
       "      <td>30.377439</td>\n",
       "    </tr>\n",
       "    <tr>\n",
       "      <td>30768</td>\n",
       "      <td>0</td>\n",
       "      <td>余杭</td>\n",
       "      <td>瓶窑</td>\n",
       "      <td>22314</td>\n",
       "      <td>北湖绿洲花园</td>\n",
       "      <td>2013</td>\n",
       "      <td>板楼</td>\n",
       "      <td>600.0</td>\n",
       "      <td>5室3厅</td>\n",
       "      <td>2019-05-08</td>\n",
       "      <td>南</td>\n",
       "      <td>共3层</td>\n",
       "      <td>毛坯</td>\n",
       "      <td>268.90</td>\n",
       "      <td>119.976280</td>\n",
       "      <td>30.377439</td>\n",
       "    </tr>\n",
       "    <tr>\n",
       "      <td>30769</td>\n",
       "      <td>2</td>\n",
       "      <td>余杭</td>\n",
       "      <td>瓶窑</td>\n",
       "      <td>14946</td>\n",
       "      <td>北湖绿洲花园</td>\n",
       "      <td>未知年建</td>\n",
       "      <td>板楼</td>\n",
       "      <td>275.0</td>\n",
       "      <td>4室2厅</td>\n",
       "      <td>2018-10-25</td>\n",
       "      <td>南 北</td>\n",
       "      <td>高楼层/共11层</td>\n",
       "      <td>毛坯</td>\n",
       "      <td>184.00</td>\n",
       "      <td>119.976280</td>\n",
       "      <td>30.377439</td>\n",
       "    </tr>\n",
       "  </tbody>\n",
       "</table>\n",
       "<p>30770 rows × 16 columns</p>\n",
       "</div>"
      ],
      "text/plain": [
       "       关注   区  板块     单价      小区  建造时间 房屋类型  总价/万元    户型        挂牌时间   朝向  \\\n",
       "0       0  余杭  临平  21015   众安理想湾  2015   板楼  210.0  3室2厅  2019-06-12  南 北   \n",
       "1       4  余杭  临平  28416   众安理想湾  2016   结合  780.0  6室2厅  2019-04-04    南   \n",
       "2       2  余杭  临平  17323   众安理想湾  2015   板楼  220.0  3室2厅  2018-09-07    南   \n",
       "3       4  余杭  临平  18249   众安理想湾  2015   塔楼  250.0  3室2厅  2018-08-15    南   \n",
       "4       1  余杭  临平  24112   众安理想湾  2015   板楼  215.0  3室2厅  2019-04-21    南   \n",
       "...    ..  ..  ..    ...     ...   ...  ...    ...   ...         ...  ...   \n",
       "30765   6  余杭  瓶窑  19566  北湖绿洲花园  2013   板楼  180.0  2室2厅  2018-07-07    南   \n",
       "30766   0  余杭  瓶窑  17557  北湖绿洲花园  未知年建   板楼  240.0  4室2厅  2019-05-08    南   \n",
       "30767   0  余杭  瓶窑  19613  北湖绿洲花园  2013   板楼  560.0  5室2厅  2019-04-14    南   \n",
       "30768   0  余杭  瓶窑  22314  北湖绿洲花园  2013   板楼  600.0  5室3厅  2019-05-08    南   \n",
       "30769   2  余杭  瓶窑  14946  北湖绿洲花园  未知年建   板楼  275.0  4室2厅  2018-10-25  南 北   \n",
       "\n",
       "             楼层 装修情况      面积         lnt        lat  \n",
       "0      低楼层/共33层   精装   99.93  120.269174  30.435340  \n",
       "1        联排/共3层   毛坯  274.50  120.269174  30.435340  \n",
       "2      高楼层/共33层   精装  127.00  120.269174  30.435340  \n",
       "3      中楼层/共33层   简装  137.00  120.269174  30.435340  \n",
       "4      高楼层/共34层   精装   89.17  120.269174  30.435340  \n",
       "...         ...  ...     ...         ...        ...  \n",
       "30765  低楼层/共11层   精装   92.00  119.976280  30.377439  \n",
       "30766   高楼层/共6层   精装  136.70  119.976280  30.377439  \n",
       "30767    联排/共3层   毛坯  285.53  119.976280  30.377439  \n",
       "30768       共3层   毛坯  268.90  119.976280  30.377439  \n",
       "30769  高楼层/共11层   毛坯  184.00  119.976280  30.377439  \n",
       "\n",
       "[30770 rows x 16 columns]"
      ]
     },
     "execution_count": 181,
     "metadata": {},
     "output_type": "execute_result"
    }
   ],
   "source": [
    "data[\"经纬度\"] = "
   ]
  },
  {
   "cell_type": "code",
   "execution_count": 188,
   "metadata": {},
   "outputs": [],
   "source": [
    "data[\"lnt\"]=data[\"lnt\"].astype(\"object\")\n",
    "data[\"lat\"]=data[\"lat\"].astype(\"object\")"
   ]
  },
  {
   "cell_type": "code",
   "execution_count": 194,
   "metadata": {},
   "outputs": [],
   "source": [
    "t = []\n",
    "for i in range(len(data[\"lnt\"])):\n",
    "    t.append(str(data[\"lnt\"][i])+\",\"+str(data[\"lat\"][i]))"
   ]
  },
  {
   "cell_type": "code",
   "execution_count": 196,
   "metadata": {},
   "outputs": [],
   "source": [
    "tt = {\"经纬度\":t}"
   ]
  },
  {
   "cell_type": "code",
   "execution_count": 198,
   "metadata": {},
   "outputs": [],
   "source": [
    "data[\"经纬度\"]=tt[\"经纬度\"]"
   ]
  },
  {
   "cell_type": "code",
   "execution_count": 201,
   "metadata": {},
   "outputs": [
    {
     "data": {
      "text/plain": [
       "Index(['关注', '区', '板块', '单价', '小区', '建造时间', '房屋类型', '总价/万元', '户型', '挂牌时间',\n",
       "       '朝向', '楼层', '装修情况', '面积', 'lnt', 'lat', '经纬度'],\n",
       "      dtype='object')"
      ]
     },
     "execution_count": 201,
     "metadata": {},
     "output_type": "execute_result"
    }
   ],
   "source": [
    "data.columns"
   ]
  },
  {
   "cell_type": "code",
   "execution_count": 202,
   "metadata": {},
   "outputs": [],
   "source": [
    "q = data[['关注', '区', '板块', '单价', '小区', '建造时间', '总价/万元', '经纬度']]"
   ]
  },
  {
   "cell_type": "code",
   "execution_count": 204,
   "metadata": {},
   "outputs": [],
   "source": [
    "q[\"位置\"]=q[\"区\"]+q[\"板块\"]+[\"小区\"]"
   ]
  },
  {
   "cell_type": "code",
   "execution_count": 207,
   "metadata": {},
   "outputs": [],
   "source": [
    "q=q[['小区','经纬度', '位置','关注', '单价', '建造时间', '总价/万元']]"
   ]
  },
  {
   "cell_type": "code",
   "execution_count": 236,
   "metadata": {},
   "outputs": [],
   "source": [
    "q.to_csv(\"高德地图utf-8.csv\",encoding=\"utf-8\")"
   ]
  },
  {
   "cell_type": "code",
   "execution_count": 214,
   "metadata": {},
   "outputs": [],
   "source": [
    "q = q.groupby(\"小区\").mean()"
   ]
  },
  {
   "cell_type": "code",
   "execution_count": 219,
   "metadata": {},
   "outputs": [],
   "source": [
    "z = pd.read_csv(\"各小区经纬度详情.csv\")\n",
    "z\n",
    "\n",
    "t = []\n",
    "for i in range(len(z[\"lnt\"])):\n",
    "    t.append(str(z[\"lnt\"][i])+\",\"+str(z[\"lat\"][i]))\n",
    "tt ={\"经纬度\":t}\n",
    "z[\"经纬度\"]=tt[\"经纬度\"]"
   ]
  },
  {
   "cell_type": "code",
   "execution_count": 225,
   "metadata": {},
   "outputs": [],
   "source": [
    "w = pd.merge(q,z,left_on=q.index,right_on=\"小区\",how=\"left\")"
   ]
  },
  {
   "cell_type": "code",
   "execution_count": 227,
   "metadata": {},
   "outputs": [
    {
     "data": {
      "text/plain": [
       "Index(['关注', '单价', '总价/万元', 'Unnamed: 0', '小区', 'lnt', 'lat', '经纬度'], dtype='object')"
      ]
     },
     "execution_count": 227,
     "metadata": {},
     "output_type": "execute_result"
    }
   ],
   "source": [
    "w.columns"
   ]
  },
  {
   "cell_type": "code",
   "execution_count": 228,
   "metadata": {},
   "outputs": [],
   "source": [
    "w = w[[ '小区', '经纬度','关注', '单价', '总价/万元']]"
   ]
  },
  {
   "cell_type": "code",
   "execution_count": 232,
   "metadata": {},
   "outputs": [],
   "source": [
    "w.columns=[\"xiaoqu\",\"latlnt\",\"d\",\"pice\",\"sum\"]"
   ]
  },
  {
   "cell_type": "code",
   "execution_count": 235,
   "metadata": {},
   "outputs": [],
   "source": [
    "w.to_csv(\"高德地图.csv\")"
   ]
  },
  {
   "cell_type": "code",
   "execution_count": null,
   "metadata": {},
   "outputs": [],
   "source": []
  }
 ],
 "metadata": {
  "kernelspec": {
   "display_name": "Python 3",
   "language": "python",
   "name": "python3"
  },
  "language_info": {
   "codemirror_mode": {
    "name": "ipython",
    "version": 3
   },
   "file_extension": ".py",
   "mimetype": "text/x-python",
   "name": "python",
   "nbconvert_exporter": "python",
   "pygments_lexer": "ipython3",
   "version": "3.7.4"
  }
 },
 "nbformat": 4,
 "nbformat_minor": 2
}
