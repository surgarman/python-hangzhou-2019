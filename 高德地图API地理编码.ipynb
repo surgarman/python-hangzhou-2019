{
 "cells": [
  {
   "cell_type": "code",
   "execution_count": 1,
   "metadata": {},
   "outputs": [],
   "source": [
    "import requests\n",
    "import json\n",
    "# 执行一次高德地图地理编码的查询\n",
    "# 输入值：locationList -> 地址的序列,currentKey -> 当前使用的Key\n",
    "# 返回值：resultList -> 查询成功，返回结果坐标的序列\n",
    "#        -1 -> 执行当前查询时Key的配额用完了\n",
    "#        -2 -> 执行当前查询出错\n",
    "\n",
    "def ExcuteSingleQuery(locationList,currentkey):\n",
    "    # 1-将locationList中的地址连接成高德地图API能够识别的样子\n",
    "    locationString = \"\"     # 当前locationList组成的string\n",
    "    for location in locationList:\n",
    "        locationString += location + '|'\n",
    "    # 2-地理编码查询需要的Url\n",
    "    output = 'json'    # 查询返回的形式\n",
    "    batch = 'true'     # 是否支持多个查询\n",
    "    base = 'https://restapi.amap.com/v3/geocode/geo?'    # 地理编码查询Url的头\n",
    "    currentUrl = base + \"output=\" + output + \"&batch=\" + batch + \"&address=\" + locationString + \"&key=\" + currentkey\n",
    "    # 3-提交请求\n",
    "    response = requests.get(currentUrl)    # 提交请求\n",
    "    answer = response.json()   # 接收返回\n",
    "    \n",
    "    # 4-解析Json的内容\n",
    "    resultList = []    # 用来存放地理编码结果的空序列\n",
    "    if answer['status'] == '1' and answer['info'] == 'OK':\n",
    "        # 4.1-请求和返回都成功，则进行解析\n",
    "        tmpList = answer['geocodes']    # 获取所有结果坐标点\n",
    "        for i in range(0,len(tmpList)):\n",
    "            try:\n",
    "                # 解析','分隔的经纬度\n",
    "                coordString = tmpList[i]['location']\n",
    "                coordList = coordString.split(',')\n",
    "                # 放入结果序列\n",
    "                resultList.append((float(coordList[0]),float(coordList[1])))\n",
    "            except:\n",
    "                # 如果发生错误则存入None\n",
    "                resultList.append(None)\n",
    "                \n",
    "        return resultList\n",
    "    elif answer['info'] == 'DAILY_QUERY_OVER_LIMIT':\n",
    "        # 4.2-当前账号的余额用完了,返回-1\n",
    "        return -1\n",
    "    else:\n",
    "        # 4.3-如果发生其他错误则返回-2\n",
    "        return -2"
   ]
  },
  {
   "cell_type": "code",
   "execution_count": 2,
   "metadata": {},
   "outputs": [],
   "source": [
    "locationList = [\n",
    "        \"杭州西湖\",\n",
    "        \"杭州众安理想湾\",\n",
    "    ]"
   ]
  },
  {
   "cell_type": "code",
   "execution_count": 3,
   "metadata": {},
   "outputs": [
    {
     "name": "stdout",
     "output_type": "stream",
     "text": [
      "[(120.156873, 30.260671), (120.269174, 30.43534)]\n"
     ]
    }
   ],
   "source": [
    "print(ExcuteSingleQuery(locationList=locationList, currentkey=\"你的key\"))"
   ]
  },
  {
   "cell_type": "code",
   "execution_count": null,
   "metadata": {},
   "outputs": [],
   "source": []
  }
 ],
 "metadata": {
  "kernelspec": {
   "display_name": "Python 3",
   "language": "python",
   "name": "python3"
  },
  "language_info": {
   "codemirror_mode": {
    "name": "ipython",
    "version": 3
   },
   "file_extension": ".py",
   "mimetype": "text/x-python",
   "name": "python",
   "nbconvert_exporter": "python",
   "pygments_lexer": "ipython3",
   "version": "3.7.4"
  }
 },
 "nbformat": 4,
 "nbformat_minor": 2
}
